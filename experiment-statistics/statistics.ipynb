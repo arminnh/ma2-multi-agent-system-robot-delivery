{
 "cells": [
  {
   "cell_type": "code",
   "execution_count": 47,
   "metadata": {},
   "outputs": [],
   "source": [
    "# Imports\n",
    "import json\n",
    "from pprint import pprint\n",
    "import glob\n",
    "import re\n",
    "import pandas as pd\n",
    "import seaborn as sns\n",
    "from scipy import stats\n",
    "from math import sqrt\n",
    "%matplotlib inline"
   ]
  },
  {
   "cell_type": "code",
   "execution_count": 48,
   "metadata": {},
   "outputs": [],
   "source": [
    "pd.options.display.float_format = '{:,.4f}'.format"
   ]
  },
  {
   "cell_type": "code",
   "execution_count": 49,
   "metadata": {},
   "outputs": [],
   "source": [
    "class ExperimentResults:\n",
    "    def __init__(self, id, parameters, results):\n",
    "        self.id = id\n",
    "        self.parameters = parameters\n",
    "        for v in results:\n",
    "            v.update(parameters)\n",
    "        self.results = pd.DataFrame(results)\n",
    "\n",
    "def getAllExperiments():\n",
    "    experiments = {}\n",
    "    \n",
    "    for file in glob.glob(\"experiment-*.json\"):\n",
    "        fileName = file.split(\"/\")[-1]\n",
    "        number = int(re.match(\"experiment-([\\d]+).json\", fileName).group(1))\n",
    "        \n",
    "        with open(file) as f:\n",
    "            e = json.load(f)\n",
    "            experiments[number] = ExperimentResults(e[\"experiment\"], e[\"parameters\"], e[\"results\"])\n",
    "\n",
    "    return experiments\n",
    "\n",
    "def getExperimentResultsForIds(exps, ids):\n",
    "    return pd.concat([exps[i].results for i in ids])\n",
    "\n",
    "def drawBoxPlotForExperiments(expList, x, y):\n",
    "    ax = sns.boxplot(x=x, y=y, data=expList)\n",
    "    \n",
    "def perform_t_test(first, second, keyValue, testType, alpha=0.05):\n",
    "    n1 = first.shape[0]\n",
    "    n2 = second.shape[0]\n",
    "    \n",
    "    # calculate degrees of freedom\n",
    "    df = n1 + n2 - 2\n",
    "    \n",
    "    equalVar = stats.levene(first[keyValue],second[keyValue])[1] > 0.05\n",
    "    \n",
    "    t, p = stats.ttest_ind(first[keyValue], second[keyValue], equal_var=equalVar)\n",
    "\n",
    "    std1 = first[keyValue].std()\n",
    "    std2 = second[keyValue].std()\n",
    "\n",
    "    std_n1n2 = sqrt( ((n1 - 1)*(std1)**2 + (n2 - 1)*(std2)**2) / df) \n",
    "    \n",
    "    diff_mean = first[keyValue].mean() - second[keyValue].mean()\n",
    "    MoE = stats.t.ppf(1 - 0.05/2, df) * std_n1n2 * sqrt(1/n1 + 1/n2)\n",
    "    \n",
    "    print('The results of the independent t-test are: \\n\\tt-value = {:4.16f}\\n\\tp-value = {:4.3f}'.format(t, p))\n",
    "    print ('The difference between groups is {:3.1f} [{:3.1f} to {:3.1f}] (mean [95% CI])'.format(diff_mean, diff_mean - MoE, diff_mean + MoE))\n",
    "    \n",
    "    if testType == \"greater\":\n",
    "        if p/2 < alpha and t > 0:\n",
    "            print(\"Reject null hypothesis\")\n",
    "        else:\n",
    "            print(\"Cannot reject null hypothesis\")\n",
    "    elif testType == \"less\":\n",
    "        if p/2 < alpha and t < 0:\n",
    "            print(\"Reject null hypothesis\")\n",
    "        else:\n",
    "            print(\"Cannot reject null hypothesis\")\n",
    "    elif testType == \"equal\":\n",
    "        if p < alpha:\n",
    "            print(\"Reject null hypothesis\")\n",
    "        else:\n",
    "            print(\"Cannot reject null hypothesis\")\n",
    "                \n",
    "def perform_t_test_range(start, end, experiments, key, testType):   \n",
    "    for i in range(start, end+1):\n",
    "        for j in range(i+1, end+1):\n",
    "            print(\"{} {} {}\".format(i, testType, j))\n",
    "            perform_t_test(experiments[j].results, experiments[i].results, key, testType)\n",
    "            print()"
   ]
  },
  {
   "cell_type": "code",
   "execution_count": 50,
   "metadata": {},
   "outputs": [],
   "source": [
    "experiments = getAllExperiments()"
   ]
  },
  {
   "cell_type": "code",
   "execution_count": 51,
   "metadata": {},
   "outputs": [],
   "source": [
    "firstExps = getExperimentResultsForIds(experiments, [1,2,3,4])"
   ]
  },
  {
   "cell_type": "markdown",
   "metadata": {},
   "source": [
    "# Plot for question 1"
   ]
  },
  {
   "cell_type": "code",
   "execution_count": 52,
   "metadata": {},
   "outputs": [
    {
     "data": {
      "image/png": "[encoded data removed]",
      "text/plain": [
       "<matplotlib.figure.Figure at 0x7f28a2122470>"
      ]
     },
     "metadata": {},
     "output_type": "display_data"
    }
   ],
   "source": [
    "drawBoxPlotForExperiments(firstExps, \"probNewDeliveryTask\", \"totalTasksWaitingTime\")"
   ]
  },
  {
   "cell_type": "markdown",
   "metadata": {},
   "source": [
    "##### Increasing probability of requests, total task waiting time"
   ]
  },
  {
   "cell_type": "code",
   "execution_count": 53,
   "metadata": {
    "scrolled": true
   },
   "outputs": [
    {
     "name": "stdout",
     "output_type": "stream",
     "text": [
      "1 greater 2\n",
      "The results of the independent t-test are: \n",
      "\tt-value = 56.9084934691678015\n",
      "\tp-value = 0.000\n",
      "The difference between groups is 1920325096.7 [1853781169.4 to 1986869024.0] (mean [95% CI])\n",
      "Reject null hypothesis\n",
      "\n",
      "1 greater 3\n",
      "The results of the independent t-test are: \n",
      "\tt-value = 65.8594474497742652\n",
      "\tp-value = 0.000\n",
      "The difference between groups is 2464278313.2 [2390490875.1 to 2538065751.4] (mean [95% CI])\n",
      "Reject null hypothesis\n",
      "\n",
      "1 greater 4\n",
      "The results of the independent t-test are: \n",
      "\tt-value = 68.6078069866209717\n",
      "\tp-value = 0.000\n",
      "The difference between groups is 3658395346.5 [3553240847.6 to 3763549845.4] (mean [95% CI])\n",
      "Reject null hypothesis\n",
      "\n",
      "2 greater 3\n",
      "The results of the independent t-test are: \n",
      "\tt-value = 14.4246434101107610\n",
      "\tp-value = 0.000\n",
      "The difference between groups is 543953216.5 [469588449.3 to 618317983.8] (mean [95% CI])\n",
      "Reject null hypothesis\n",
      "\n",
      "2 greater 4\n",
      "The results of the independent t-test are: \n",
      "\tt-value = 32.4696043397648637\n",
      "\tp-value = 0.000\n",
      "The difference between groups is 1738070249.8 [1632509834.8 to 1843630664.8] (mean [95% CI])\n",
      "Reject null hypothesis\n",
      "\n",
      "3 greater 4\n",
      "The results of the independent t-test are: \n",
      "\tt-value = 21.3550169162867363\n",
      "\tp-value = 0.000\n",
      "The difference between groups is 1194117033.3 [1083846942.2 to 1304387124.3] (mean [95% CI])\n",
      "Reject null hypothesis\n",
      "\n"
     ]
    }
   ],
   "source": [
    "perform_t_test_range(1, 4, experiments, \"totalTasksWaitingTime\", \"greater\")"
   ]
  },
  {
   "cell_type": "markdown",
   "metadata": {},
   "source": [
    "# Plots for question 2"
   ]
  },
  {
   "cell_type": "code",
   "execution_count": 54,
   "metadata": {},
   "outputs": [
    {
     "data": {
      "image/png": "[encoded data removed]",
      "text/plain": [
       "<matplotlib.figure.Figure at 0x7f28a25b5828>"
      ]
     },
     "metadata": {},
     "output_type": "display_data"
    }
   ],
   "source": [
    "drawBoxPlotForExperiments(firstExps, \"probNewDeliveryTask\", \"totalIdleTime\")"
   ]
  },
  {
   "cell_type": "markdown",
   "metadata": {},
   "source": [
    "##### Increasing probability of requests, idle time"
   ]
  },
  {
   "cell_type": "code",
   "execution_count": 55,
   "metadata": {
    "scrolled": true
   },
   "outputs": [
    {
     "name": "stdout",
     "output_type": "stream",
     "text": [
      "1 greater 2\n",
      "The results of the independent t-test are: \n",
      "\tt-value = -10.7558783969925038\n",
      "\tp-value = 0.000\n",
      "The difference between groups is -535980.0 [-634248.3 to -437711.7] (mean [95% CI])\n",
      "Cannot reject null hypothesis\n",
      "\n",
      "1 greater 3\n",
      "The results of the independent t-test are: \n",
      "\tt-value = -11.4424996004418809\n",
      "\tp-value = 0.000\n",
      "The difference between groups is -591290.0 [-693193.8 to -489386.2] (mean [95% CI])\n",
      "Cannot reject null hypothesis\n",
      "\n",
      "1 greater 4\n",
      "The results of the independent t-test are: \n",
      "\tt-value = -11.9534439740242355\n",
      "\tp-value = 0.000\n",
      "The difference between groups is -560020.0 [-652409.2 to -467630.8] (mean [95% CI])\n",
      "Cannot reject null hypothesis\n",
      "\n",
      "2 greater 3\n",
      "The results of the independent t-test are: \n",
      "\tt-value = -1.1012103835631557\n",
      "\tp-value = 0.272\n",
      "The difference between groups is -55310.0 [-154357.6 to 43737.6] (mean [95% CI])\n",
      "Cannot reject null hypothesis\n",
      "\n",
      "2 greater 4\n",
      "The results of the independent t-test are: \n",
      "\tt-value = -0.5312992099073034\n",
      "\tp-value = 0.596\n",
      "The difference between groups is -24040.0 [-113269.0 to 65189.0] (mean [95% CI])\n",
      "Cannot reject null hypothesis\n",
      "\n",
      "3 greater 4\n",
      "The results of the independent t-test are: \n",
      "\tt-value = 0.6615158111836478\n",
      "\tp-value = 0.509\n",
      "The difference between groups is 31270.0 [-61947.7 to 124487.7] (mean [95% CI])\n",
      "Cannot reject null hypothesis\n",
      "\n"
     ]
    }
   ],
   "source": [
    "perform_t_test_range(1, 4, experiments, \"totalIdleTime\", \"greater\")"
   ]
  },
  {
   "cell_type": "code",
   "execution_count": 56,
   "metadata": {
    "scrolled": true
   },
   "outputs": [
    {
     "data": {
      "image/png": "[encoded data removed]",
      "text/plain": [
       "<matplotlib.figure.Figure at 0x7f28a2032898>"
      ]
     },
     "metadata": {},
     "output_type": "display_data"
    }
   ],
   "source": [
    "drawBoxPlotForExperiments(firstExps, \"probNewDeliveryTask\", \"totalTravelTime\")"
   ]
  },
  {
   "cell_type": "markdown",
   "metadata": {},
   "source": [
    "##### Increasing probability of requests, tavel time"
   ]
  },
  {
   "cell_type": "code",
   "execution_count": 57,
   "metadata": {
    "scrolled": true
   },
   "outputs": [
    {
     "name": "stdout",
     "output_type": "stream",
     "text": [
      "1 greater 2\n",
      "The results of the independent t-test are: \n",
      "\tt-value = 10.5827871935403088\n",
      "\tp-value = 0.000\n",
      "The difference between groups is 496590.0 [404054.4 to 589125.6] (mean [95% CI])\n",
      "Reject null hypothesis\n",
      "\n",
      "1 greater 3\n",
      "The results of the independent t-test are: \n",
      "\tt-value = 11.3646524001818108\n",
      "\tp-value = 0.000\n",
      "The difference between groups is 520940.0 [430545.4 to 611334.6] (mean [95% CI])\n",
      "Reject null hypothesis\n",
      "\n",
      "1 greater 4\n",
      "The results of the independent t-test are: \n",
      "\tt-value = 11.3043142370366230\n",
      "\tp-value = 0.000\n",
      "The difference between groups is 498790.0 [411777.0 to 585803.0] (mean [95% CI])\n",
      "Reject null hypothesis\n",
      "\n",
      "2 greater 3\n",
      "The results of the independent t-test are: \n",
      "\tt-value = 0.5900041564654952\n",
      "\tp-value = 0.556\n",
      "The difference between groups is 24350.0 [-57036.9 to 105736.9] (mean [95% CI])\n",
      "Cannot reject null hypothesis\n",
      "\n",
      "2 greater 4\n",
      "The results of the independent t-test are: \n",
      "\tt-value = 0.0558976791220182\n",
      "\tp-value = 0.955\n",
      "The difference between groups is 2200.0 [-75413.9 to 79813.9] (mean [95% CI])\n",
      "Cannot reject null hypothesis\n",
      "\n",
      "3 greater 4\n",
      "The results of the independent t-test are: \n",
      "\tt-value = -0.5820265699479368\n",
      "\tp-value = 0.561\n",
      "The difference between groups is -22150.0 [-97198.4 to 52898.4] (mean [95% CI])\n",
      "Cannot reject null hypothesis\n",
      "\n"
     ]
    }
   ],
   "source": [
    "perform_t_test_range(1, 4, experiments, \"totalTravelTime\", \"greater\")"
   ]
  },
  {
   "cell_type": "code",
   "execution_count": 58,
   "metadata": {},
   "outputs": [
    {
     "data": {
      "image/png": "[encoded data removed]",
      "text/plain": [
       "<matplotlib.figure.Figure at 0x7f28a24ac160>"
      ]
     },
     "metadata": {},
     "output_type": "display_data"
    }
   ],
   "source": [
    "drawBoxPlotForExperiments(firstExps, \"probNewDeliveryTask\", \"totalTasks\")"
   ]
  },
  {
   "cell_type": "markdown",
   "metadata": {},
   "source": [
    "##### Increasing probability of requests, amount of tasks"
   ]
  },
  {
   "cell_type": "code",
   "execution_count": 59,
   "metadata": {
    "scrolled": true
   },
   "outputs": [
    {
     "name": "stdout",
     "output_type": "stream",
     "text": [
      "1 greater 2\n",
      "The results of the independent t-test are: \n",
      "\tt-value = 24.3973275456105192\n",
      "\tp-value = 0.000\n",
      "The difference between groups is 110.8 [101.8 to 119.7] (mean [95% CI])\n",
      "Reject null hypothesis\n",
      "\n",
      "1 greater 3\n",
      "The results of the independent t-test are: \n",
      "\tt-value = 34.0329539692797383\n",
      "\tp-value = 0.000\n",
      "The difference between groups is 152.2 [143.4 to 161.0] (mean [95% CI])\n",
      "Reject null hypothesis\n",
      "\n",
      "1 greater 4\n",
      "The results of the independent t-test are: \n",
      "\tt-value = 35.1125058584100955\n",
      "\tp-value = 0.000\n",
      "The difference between groups is 177.6 [167.6 to 187.6] (mean [95% CI])\n",
      "Reject null hypothesis\n",
      "\n",
      "2 greater 3\n",
      "The results of the independent t-test are: \n",
      "\tt-value = 6.8769410599225926\n",
      "\tp-value = 0.000\n",
      "The difference between groups is 41.4 [29.6 to 53.3] (mean [95% CI])\n",
      "Reject null hypothesis\n",
      "\n",
      "2 greater 4\n",
      "The results of the independent t-test are: \n",
      "\tt-value = 10.3277080836876696\n",
      "\tp-value = 0.000\n",
      "The difference between groups is 66.9 [54.1 to 79.6] (mean [95% CI])\n",
      "Reject null hypothesis\n",
      "\n",
      "3 greater 4\n",
      "The results of the independent t-test are: \n",
      "\tt-value = 3.9544583884695701\n",
      "\tp-value = 0.000\n",
      "The difference between groups is 25.4 [12.7 to 38.1] (mean [95% CI])\n",
      "Reject null hypothesis\n",
      "\n"
     ]
    }
   ],
   "source": [
    "perform_t_test_range(1, 4, experiments, \"totalTasks\", \"greater\")"
   ]
  },
  {
   "cell_type": "markdown",
   "metadata": {},
   "source": [
    "# Question 3"
   ]
  },
  {
   "cell_type": "code",
   "execution_count": 60,
   "metadata": {},
   "outputs": [],
   "source": [
    "secondExps = getExperimentResultsForIds(experiments, [5,6,7,8])"
   ]
  },
  {
   "cell_type": "markdown",
   "metadata": {},
   "source": [
    "# Plots for question 3"
   ]
  },
  {
   "cell_type": "code",
   "execution_count": 61,
   "metadata": {},
   "outputs": [
    {
     "data": {
      "image/png": "[encoded data removed]",
      "text/plain": [
       "<matplotlib.figure.Figure at 0x7f28a24adac8>"
      ]
     },
     "metadata": {},
     "output_type": "display_data"
    }
   ],
   "source": [
    "drawBoxPlotForExperiments(secondExps, \"numRobots\", \"totalTasksWaitingTime\")"
   ]
  },
  {
   "cell_type": "markdown",
   "metadata": {},
   "source": [
    "##### Increasing amount of robots when many requests, totalTasksWaitingTime"
   ]
  },
  {
   "cell_type": "code",
   "execution_count": 62,
   "metadata": {
    "scrolled": true
   },
   "outputs": [
    {
     "name": "stdout",
     "output_type": "stream",
     "text": [
      "5 greater 6\n",
      "The results of the independent t-test are: \n",
      "\tt-value = -12.1502921341276817\n",
      "\tp-value = 0.000\n",
      "The difference between groups is -476161826.8 [-553443873.5 to -398879780.0] (mean [95% CI])\n",
      "Cannot reject null hypothesis\n",
      "\n",
      "5 greater 7\n",
      "The results of the independent t-test are: \n",
      "\tt-value = -19.5910078523151938\n",
      "\tp-value = 0.000\n",
      "The difference between groups is -1261134768.4 [-1388079733.3 to -1134189803.4] (mean [95% CI])\n",
      "Cannot reject null hypothesis\n",
      "\n",
      "5 greater 8\n",
      "The results of the independent t-test are: \n",
      "\tt-value = -49.1530224229967772\n",
      "\tp-value = 0.000\n",
      "The difference between groups is -3607178142.5 [-3751897998.9 to -3462458286.2] (mean [95% CI])\n",
      "Cannot reject null hypothesis\n",
      "\n",
      "6 greater 7\n",
      "The results of the independent t-test are: \n",
      "\tt-value = -11.0903787709737056\n",
      "\tp-value = 0.000\n",
      "The difference between groups is -784972941.6 [-924551615.3 to -645394267.8] (mean [95% CI])\n",
      "Cannot reject null hypothesis\n",
      "\n",
      "6 greater 8\n",
      "The results of the independent t-test are: \n",
      "\tt-value = -39.5999384015881404\n",
      "\tp-value = 0.000\n",
      "The difference between groups is -3131016315.8 [-3286936227.4 to -2975096404.1] (mean [95% CI])\n",
      "Cannot reject null hypothesis\n",
      "\n",
      "7 greater 8\n",
      "The results of the independent t-test are: \n",
      "\tt-value = -24.9247003349559861\n",
      "\tp-value = 0.000\n",
      "The difference between groups is -2346043374.2 [-2531659990.4 to -2160426757.9] (mean [95% CI])\n",
      "Cannot reject null hypothesis\n",
      "\n"
     ]
    }
   ],
   "source": [
    "perform_t_test_range(5, 8, experiments, \"totalTasksWaitingTime\", \"greater\")"
   ]
  },
  {
   "cell_type": "code",
   "execution_count": 70,
   "metadata": {},
   "outputs": [],
   "source": [
    "thirdExps = getExperimentResultsForIds(experiments, [x for x in range(9,25)])"
   ]
  },
  {
   "cell_type": "code",
   "execution_count": 76,
   "metadata": {},
   "outputs": [
    {
     "data": {
      "image/png": "[encoded data removed]",
      "text/plain": [
       "<matplotlib.figure.Figure at 0x7f28a24396d8>"
      ]
     },
     "metadata": {},
     "output_type": "display_data"
    }
   ],
   "source": [
    "drawBoxPlotForExperiments(thirdExps, \"probNewRoadWorks\", \"totalTasksWaitingTime\")"
   ]
  },
  {
   "cell_type": "code",
   "execution_count": 74,
   "metadata": {},
   "outputs": [
    {
     "data": {
      "image/png": "[encoded data removed]",
      "text/plain": [
       "<matplotlib.figure.Figure at 0x7f28a223f128>"
      ]
     },
     "metadata": {},
     "output_type": "display_data"
    }
   ],
   "source": [
    "drawBoxPlotForExperiments(thirdExps, \"probNewRoadWorks\", \"totalTasks\")"
   ]
  },
  {
   "cell_type": "code",
   "execution_count": 73,
   "metadata": {},
   "outputs": [
    {
     "data": {
      "image/png": "[encoded data removed]",
      "text/plain": [
       "<matplotlib.figure.Figure at 0x7f28a1f19e80>"
      ]
     },
     "metadata": {},
     "output_type": "display_data"
    }
   ],
   "source": [
    "drawBoxPlotForExperiments(thirdExps, \"probNewRoadWorks\", \"totalRoadWorks\")"
   ]
  },
  {
   "cell_type": "code",
   "execution_count": null,
   "metadata": {},
   "outputs": [],
   "source": []
  }
 ],
 "metadata": {
  "kernelspec": {
   "display_name": "Python 3",
   "language": "python",
   "name": "python3"
  },
  "language_info": {
   "codemirror_mode": {
    "name": "ipython",
    "version": 3
   },
   "file_extension": ".py",
   "mimetype": "text/x-python",
   "name": "python",
   "nbconvert_exporter": "python",
   "pygments_lexer": "ipython3",
   "version": "3.6.5"
  }
 },
 "nbformat": 4,
 "nbformat_minor": 2
}
